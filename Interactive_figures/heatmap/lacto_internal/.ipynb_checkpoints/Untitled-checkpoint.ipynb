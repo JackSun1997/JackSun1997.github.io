{
 "cells": [
  {
   "cell_type": "code",
   "execution_count": 56,
   "id": "ebe29ddd",
   "metadata": {},
   "outputs": [],
   "source": [
    "import json\n",
    "import pandas as pd\n",
    "import time"
   ]
  },
  {
   "cell_type": "code",
   "execution_count": 57,
   "id": "8d3bc5e5",
   "metadata": {},
   "outputs": [],
   "source": [
    "lacto_apm_binary = pd.read_csv('df_gene_presence_binary.csv', index_col = 0).T\n",
    "lacto_locustag = pd.read_csv('df_gene_presence_locustag.csv', index_col = 0, low_memory = False).T\n",
    "lacto_annotation = pd.read_csv('gene_presence_absence.csv', index_col = 0, low_memory = False).loc[:,[\"Annotation\"]].T"
   ]
  },
  {
   "cell_type": "code",
   "execution_count": null,
   "id": "88909cce",
   "metadata": {},
   "outputs": [],
   "source": [
    "{}"
   ]
  },
  {
   "cell_type": "code",
   "execution_count": 58,
   "id": "9b3cfe91",
   "metadata": {},
   "outputs": [],
   "source": [
    "def rows(apm_locustag):\n",
    "    \n",
    "    # get the genomes' name (index label)\n",
    "    genome = apm_locustag.index\n",
    "    \n",
    "    genome_list = []\n",
    "    for i in genome:\n",
    "        genome_list.append({\"meta\":[\"undefined\",\"undefined\",\"Lactobacillus\"], \"name\":i})\n",
    "    return(genome_list)\n",
    "\n",
    "\n",
    "def cols(apm_locustag, lacto_annotation):\n",
    "    # apm_locustag has the same number of column as lacto_annotation, and lacto_annotation only ha one row\n",
    "    \n",
    "    # get the genes' name (index label)\n",
    "    gene = apm_locustag.columns\n",
    "    \n",
    "    # get the length of rows and columns\n",
    "    row_num = len(apm_locustag.index)\n",
    "    col_num = len(apm_locustag.columns)  \n",
    "    \n",
    "    gene_list = []\n",
    "    for i in range(row_num):\n",
    "        for j in range(col_num):\n",
    "            gene_list.append({\"meta\":[str(apm_locustag.iloc[i,j])], \"name\":gene[j]})\n",
    "    return(gene_list)\n",
    "\n",
    "def matrix(apm_binary):\n",
    "    return(apm_binary.values.tolist())"
   ]
  },
  {
   "cell_type": "code",
   "execution_count": 59,
   "id": "1c72d7f4",
   "metadata": {
    "scrolled": true
   },
   "outputs": [
    {
     "name": "stdout",
     "output_type": "stream",
     "text": [
      "--- 97.89453125 seconds ---\n"
     ]
    }
   ],
   "source": [
    "start_time = time.time()\n",
    "\n",
    "with open('file.json', 'w') as file:\n",
    "    json.dumps({\"rows\":rows(lacto_locustag),\n",
    "                \"cols\":cols(lacto_locustag,lacto_annotation),\n",
    "                \"matrix\":matrix(lacto_apm_binary)})\n",
    "    \n",
    "print(\"--- %s seconds ---\" % (time.time() - start_time))"
   ]
  }
 ],
 "metadata": {
  "kernelspec": {
   "display_name": "Python 3 (ipykernel)",
   "language": "python",
   "name": "python3"
  },
  "language_info": {
   "codemirror_mode": {
    "name": "ipython",
    "version": 3
   },
   "file_extension": ".py",
   "mimetype": "text/x-python",
   "name": "python",
   "nbconvert_exporter": "python",
   "pygments_lexer": "ipython3",
   "version": "3.9.13"
  }
 },
 "nbformat": 4,
 "nbformat_minor": 5
}
