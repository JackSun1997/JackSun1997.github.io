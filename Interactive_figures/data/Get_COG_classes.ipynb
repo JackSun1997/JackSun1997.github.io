{
 "cells": [
  {
   "cell_type": "code",
   "execution_count": 1,
   "id": "6cf7999b",
   "metadata": {},
   "outputs": [],
   "source": [
    "import pandas as pd"
   ]
  },
  {
   "cell_type": "code",
   "execution_count": 2,
   "id": "c4264166",
   "metadata": {},
   "outputs": [],
   "source": [
    "species = \"Lactiplantibacillus_plantarum\""
   ]
  },
  {
   "cell_type": "code",
   "execution_count": 3,
   "id": "2b5b12f8",
   "metadata": {},
   "outputs": [],
   "source": [
    "COG = pd.read_csv(\"./\"+ species +\"/df_pangene_eggnog_summary.csv\")\n",
    "Class = pd.read_csv(\"./\"+ species +\"/df_pangene_summary_v2.csv\")\n",
    "Frequency = pd.read_csv(\"./\"+ species +\"/df_gene_presence_binary.csv\")\n",
    "Frequency[\"Occurency\"] = Frequency.iloc[:,1:].sum(axis = 1)\n",
    "COG_Class = pd.merge(pd.merge(COG, Class.iloc[:,[0,-1]], on = [\"Gene\"]), Frequency.iloc[:,[0,-1]],on = [\"Gene\"])"
   ]
  },
  {
   "cell_type": "code",
   "execution_count": 10,
   "id": "0f7455d9",
   "metadata": {},
   "outputs": [
    {
     "data": {
      "text/plain": [
       "['Gene',\n",
       " 'COG_category',\n",
       " 'COG_category_name',\n",
       " 'Description',\n",
       " 'Annotation',\n",
       " 'PFAMs',\n",
       " 'Occurency',\n",
       " 'pangenome_class_2']"
      ]
     },
     "execution_count": 10,
     "metadata": {},
     "output_type": "execute_result"
    }
   ],
   "source": [
    "selected_col_list = [\"Gene\",\"COG_category\",\"COG_category_name\",\"Description\",\"Annotation\",\"PFAMs\",\"Occurency\"]\n",
    "selected_col_list.append(\"pangenome_class_2\")\n",
    "selected_col_list"
   ]
  },
  {
   "cell_type": "code",
   "execution_count": 14,
   "id": "a1667e1d",
   "metadata": {},
   "outputs": [],
   "source": [
    "selected_col_list = [\"Gene\",\"COG_category\",\"COG_category_name\",\"Description\",\"Annotation\",\"PFAMs\",\"Occurency\",\"pangenome_class_2\"]\n",
    "All =  COG_Class.loc[:,selected_col_list]\n",
    "Core = COG_Class.loc[COG_Class.loc[:,\"pangenome_class_2\"] == \"Core\", selected_col_list]\n",
    "Accessory = COG_Class.loc[COG_Class.loc[:,\"pangenome_class_2\"] == \"Accessory\", selected_col_list]\n",
    "Rare = COG_Class.loc[COG_Class.loc[:,\"pangenome_class_2\"] == \"Rare\", selected_col_list]"
   ]
  },
  {
   "cell_type": "code",
   "execution_count": 23,
   "id": "73924f2f",
   "metadata": {},
   "outputs": [],
   "source": [
    "All.to_json(\"./\" +  species + \"/All.json\", orient = \"values\")\n",
    "Core.to_json(\"./\" +  species + \"/Core.json\", orient = \"values\")\n",
    "Accessory.to_json(\"./\" +  species + \"/Accessory.json\", orient = \"values\")\n",
    "Rare.to_json(\"./\" +  species + \"/Rare.json\", orient = \"values\")"
   ]
  },
  {
   "cell_type": "code",
   "execution_count": 35,
   "id": "55701296",
   "metadata": {},
   "outputs": [],
   "source": [
    "# Core.to_csv(\"./\"+ species + \"/Core.csv\",index = False)\n",
    "# Accessory.to_csv(\"./\"+ species + \"/Accessory.csv\",index = False)\n",
    "# Rare.to_csv(\"./\"+ species + \"/Rare.csv\",index = False)"
   ]
  }
 ],
 "metadata": {
  "kernelspec": {
   "display_name": "Python 3 (ipykernel)",
   "language": "python",
   "name": "python3"
  },
  "language_info": {
   "codemirror_mode": {
    "name": "ipython",
    "version": 3
   },
   "file_extension": ".py",
   "mimetype": "text/x-python",
   "name": "python",
   "nbconvert_exporter": "python",
   "pygments_lexer": "ipython3",
   "version": "3.9.13"
  }
 },
 "nbformat": 4,
 "nbformat_minor": 5
}
